{
 "cells": [
  {
   "cell_type": "markdown",
   "metadata": {},
   "source": [
    "# Paraphrasing text using PARROT\n",
    "\n",
    "## Case Study: Implementation in Mineral  (Quartz, Corundum, Olivine) Descriptions\n",
    "![mineral](image/mineral.png)\n",
    "### References\n",
    "https://github.com/PrithivirajDamodaran/Parrot_Paraphraser\n",
    "\n",
    "#### Image Source:\n",
    "<br>\n",
    "https://en.wikipedia.org/wiki/Quartz\n",
    "<br>\n",
    "https://www.curriculumvisions.com/search/C/corundum/corundum.html\n",
    "<br>\n",
    "https://www.le-comptoir-geologique.com/olivine-encyclopedia.html"
   ]
  },
  {
   "cell_type": "markdown",
   "metadata": {},
   "source": [
    "don't forget to install \"git\" in your environment!"
   ]
  },
  {
   "cell_type": "code",
   "execution_count": 1,
   "metadata": {},
   "outputs": [
    {
     "name": "stdout",
     "output_type": "stream",
     "text": [
      "Collecting git+https://github.com/PrithivirajDamodaran/Parrot.git\n",
      "  Cloning https://github.com/PrithivirajDamodaran/Parrot.git to c:\\users\\asus\\appdata\\local\\temp\\pip-req-build-uyxx7bqs\n",
      "Requirement already satisfied: transformers in c:\\users\\asus\\anaconda3\\lib\\site-packages (from parrot==1.0) (4.3.3)\n",
      "Collecting sentencepiece\n",
      "  Downloading sentencepiece-0.1.96-cp37-cp37m-win_amd64.whl (1.1 MB)\n",
      "Collecting python-Levenshtein\n",
      "  Downloading python-Levenshtein-0.12.2.tar.gz (50 kB)\n",
      "Collecting sentence-transformers\n",
      "  Downloading sentence-transformers-2.0.0.tar.gz (85 kB)\n",
      "Collecting fuzzywuzzy\n",
      "  Downloading fuzzywuzzy-0.18.0-py2.py3-none-any.whl (18 kB)\n",
      "Requirement already satisfied: setuptools in c:\\users\\asus\\anaconda3\\lib\\site-packages (from python-Levenshtein->parrot==1.0) (54.1.1)\n"
     ]
    },
    {
     "name": "stderr",
     "output_type": "stream",
     "text": [
      "  Running command git clone -q https://github.com/PrithivirajDamodaran/Parrot.git 'C:\\Users\\ASUS\\AppData\\Local\\Temp\\pip-req-build-uyxx7bqs'\n",
      "ERROR: pip's dependency resolver does not currently take into account all the packages that are installed. This behaviour is the source of the following dependency conflicts.\n",
      "pytest-astropy 0.8.0 requires pytest-cov>=2.0, which is not installed.\n",
      "pytest-astropy 0.8.0 requires pytest-filter-subpackage>=0.1, which is not installed.\n",
      "WARNING: You are using pip version 21.1.1; however, version 21.1.3 is available.\n",
      "You should consider upgrading via the 'c:\\users\\asus\\anaconda3\\python.exe -m pip install --upgrade pip' command.\n"
     ]
    },
    {
     "name": "stdout",
     "output_type": "stream",
     "text": [
      "Collecting transformers\n",
      "  Downloading transformers-4.8.2-py3-none-any.whl (2.5 MB)\n",
      "Requirement already satisfied: tqdm in c:\\users\\asus\\anaconda3\\lib\\site-packages (from sentence-transformers->parrot==1.0) (4.56.0)\n",
      "Collecting torch>=1.6.0\n",
      "  Downloading torch-1.9.0-cp37-cp37m-win_amd64.whl (222.0 MB)\n",
      "Requirement already satisfied: torchvision in c:\\users\\asus\\anaconda3\\lib\\site-packages (from sentence-transformers->parrot==1.0) (0.6.1)\n",
      "Requirement already satisfied: numpy in c:\\users\\asus\\appdata\\roaming\\python\\python37\\site-packages (from sentence-transformers->parrot==1.0) (1.19.5)\n",
      "Requirement already satisfied: scikit-learn in c:\\users\\asus\\appdata\\roaming\\python\\python37\\site-packages (from sentence-transformers->parrot==1.0) (0.22)\n",
      "Requirement already satisfied: scipy in c:\\users\\asus\\appdata\\roaming\\python\\python37\\site-packages (from sentence-transformers->parrot==1.0) (1.5.4)\n",
      "Requirement already satisfied: nltk in c:\\users\\asus\\anaconda3\\lib\\site-packages (from sentence-transformers->parrot==1.0) (3.4.5)\n",
      "Collecting huggingface-hub\n",
      "  Downloading huggingface_hub-0.0.13-py3-none-any.whl (38 kB)\n",
      "Requirement already satisfied: typing-extensions in c:\\users\\asus\\anaconda3\\lib\\site-packages (from torch>=1.6.0->sentence-transformers->parrot==1.0) (3.7.4.3)\n",
      "Requirement already satisfied: requests in c:\\users\\asus\\anaconda3\\lib\\site-packages (from transformers->parrot==1.0) (2.25.1)\n",
      "  Downloading huggingface_hub-0.0.12-py3-none-any.whl (37 kB)\n",
      "Requirement already satisfied: regex!=2019.12.17 in c:\\users\\asus\\anaconda3\\lib\\site-packages (from transformers->parrot==1.0) (2020.5.14)\n",
      "Requirement already satisfied: filelock in c:\\users\\asus\\anaconda3\\lib\\site-packages (from transformers->parrot==1.0) (3.0.12)\n",
      "Requirement already satisfied: packaging in c:\\users\\asus\\anaconda3\\lib\\site-packages (from transformers->parrot==1.0) (20.1)\n",
      "Requirement already satisfied: importlib-metadata in c:\\users\\asus\\anaconda3\\lib\\site-packages (from transformers->parrot==1.0) (3.7.2)\n",
      "Requirement already satisfied: tokenizers<0.11,>=0.10.1 in c:\\users\\asus\\anaconda3\\lib\\site-packages (from transformers->parrot==1.0) (0.10.1)\n",
      "Requirement already satisfied: sacremoses in c:\\users\\asus\\anaconda3\\lib\\site-packages (from transformers->parrot==1.0) (0.0.43)\n",
      "Requirement already satisfied: pyyaml in c:\\users\\asus\\anaconda3\\lib\\site-packages (from transformers->parrot==1.0) (5.3.1)\n",
      "Collecting packaging\n",
      "  Downloading packaging-20.9-py2.py3-none-any.whl (40 kB)\n",
      "Requirement already satisfied: pyparsing>=2.0.2 in c:\\users\\asus\\appdata\\roaming\\python\\python37\\site-packages (from packaging->transformers->parrot==1.0) (2.4.7)\n",
      "Requirement already satisfied: zipp>=0.5 in c:\\users\\asus\\anaconda3\\lib\\site-packages (from importlib-metadata->transformers->parrot==1.0) (3.4.1)\n",
      "Requirement already satisfied: six in c:\\users\\asus\\anaconda3\\lib\\site-packages (from nltk->sentence-transformers->parrot==1.0) (1.15.0)\n",
      "Requirement already satisfied: urllib3<1.27,>=1.21.1 in c:\\users\\asus\\anaconda3\\lib\\site-packages (from requests->transformers->parrot==1.0) (1.25.11)\n",
      "Requirement already satisfied: certifi>=2017.4.17 in c:\\users\\asus\\anaconda3\\lib\\site-packages (from requests->transformers->parrot==1.0) (2020.12.5)\n",
      "Requirement already satisfied: idna<3,>=2.5 in c:\\users\\asus\\anaconda3\\lib\\site-packages (from requests->transformers->parrot==1.0) (2.10)\n",
      "Requirement already satisfied: chardet<5,>=3.0.2 in c:\\users\\asus\\anaconda3\\lib\\site-packages (from requests->transformers->parrot==1.0) (4.0.0)\n",
      "Requirement already satisfied: joblib in c:\\users\\asus\\anaconda3\\lib\\site-packages (from sacremoses->transformers->parrot==1.0) (1.0.0)\n",
      "Requirement already satisfied: click in c:\\users\\asus\\anaconda3\\lib\\site-packages (from sacremoses->transformers->parrot==1.0) (7.0)\n",
      "Requirement already satisfied: pillow>=4.1.1 in c:\\users\\asus\\appdata\\roaming\\python\\python37\\site-packages (from torchvision->sentence-transformers->parrot==1.0) (8.1.0)\n",
      "Building wheels for collected packages: parrot, python-Levenshtein, sentence-transformers\n",
      "  Building wheel for parrot (setup.py): started\n",
      "  Building wheel for parrot (setup.py): finished with status 'done'\n",
      "  Created wheel for parrot: filename=parrot-1.0-py3-none-any.whl size=8721 sha256=6c032cacd6b781b8016b6be6e6111b78b1528280252f6871fc873be3446a4fb2\n",
      "  Stored in directory: C:\\Users\\ASUS\\AppData\\Local\\Temp\\pip-ephem-wheel-cache-60aof0zd\\wheels\\d8\\27\\d8\\b757755a5b0b804c59714fdd8a4e2733c20802f638f17f7d96\n",
      "  Building wheel for python-Levenshtein (setup.py): started\n",
      "  Building wheel for python-Levenshtein (setup.py): finished with status 'done'\n",
      "  Created wheel for python-Levenshtein: filename=python_Levenshtein-0.12.2-cp37-cp37m-win_amd64.whl size=80316 sha256=1dfb8b5c38813780a7a305aeb3794e14f8b8a151b8aa31044f551dbf56fcf748\n",
      "  Stored in directory: c:\\users\\asus\\appdata\\local\\pip\\cache\\wheels\\05\\5f\\ca\\7c4367734892581bb5ff896f15027a932c551080b2abd3e00d\n",
      "  Building wheel for sentence-transformers (setup.py): started\n",
      "  Building wheel for sentence-transformers (setup.py): finished with status 'done'\n",
      "  Created wheel for sentence-transformers: filename=sentence_transformers-2.0.0-py3-none-any.whl size=126709 sha256=a3d70725f77f61debaece89a39b31264c175a524f370872078a00cefebcb6148\n",
      "  Stored in directory: c:\\users\\asus\\appdata\\local\\pip\\cache\\wheels\\d1\\c1\\0f\\faafd427f705c4b012274ba60d9a91d75830306811e1355293\n",
      "Successfully built parrot python-Levenshtein sentence-transformers\n",
      "Installing collected packages: packaging, torch, huggingface-hub, transformers, sentencepiece, sentence-transformers, python-Levenshtein, fuzzywuzzy, parrot\n",
      "  Attempting uninstall: packaging\n",
      "    Found existing installation: packaging 20.1\n",
      "    Uninstalling packaging-20.1:\n",
      "      Successfully uninstalled packaging-20.1\n",
      "  Attempting uninstall: torch\n",
      "    Found existing installation: torch 1.5.0+cu101\n",
      "    Uninstalling torch-1.5.0+cu101:\n",
      "      Successfully uninstalled torch-1.5.0+cu101\n",
      "  Attempting uninstall: transformers\n",
      "    Found existing installation: transformers 4.3.3\n",
      "    Uninstalling transformers-4.3.3:\n",
      "      Successfully uninstalled transformers-4.3.3\n",
      "Successfully installed fuzzywuzzy-0.18.0 huggingface-hub-0.0.12 packaging-20.9 parrot-1.0 python-Levenshtein-0.12.2 sentence-transformers-2.0.0 sentencepiece-0.1.96 torch-1.9.0 transformers-4.8.2\n"
     ]
    }
   ],
   "source": [
    "#!pip install git+https://github.com/PrithivirajDamodaran/Parrot.git"
   ]
  },
  {
   "cell_type": "markdown",
   "metadata": {},
   "source": [
    "## NLU (Natural Language Understanding) is very crucial in every aspects\n",
    "### One of the main funcionality of PARROT is to understand the natural language (text/sentences) and process them to become a paraphrased text/sentences\n",
    "### Paraphrasing is a concept of restating sentences without changing its meaning. Paraphrasing is used by the author to give a different point of view compare to the original senteces.\n",
    "\n",
    "As a Geologist/Geoscientist, we often deal with many reports. One of reports that having a bunch of sentences is rock/mineral descriptions report. Sometimes the description turns out very monotone due to the limitation of words choosen. We need to paraphrase some of the sentences to create a more sophisticated report. That's why we need PARROT as a tools to create a paraphrased text/sentences."
   ]
  },
  {
   "cell_type": "code",
   "execution_count": 3,
   "metadata": {},
   "outputs": [],
   "source": [
    "from parrot import Parrot\n",
    "import torch\n",
    "import warnings\n",
    "warnings.filterwarnings(\"ignore\")"
   ]
  },
  {
   "cell_type": "code",
   "execution_count": 4,
   "metadata": {},
   "outputs": [],
   "source": [
    "def random_state(seed):\n",
    "  torch.manual_seed(seed)\n",
    "  if torch.cuda.is_available():\n",
    "    torch.cuda.manual_seed_all(seed)\n",
    "\n",
    "random_state(1234)"
   ]
  },
  {
   "cell_type": "code",
   "execution_count": 5,
   "metadata": {},
   "outputs": [
    {
     "data": {
      "application/vnd.jupyter.widget-view+json": {
       "model_id": "21cfc6bbd2af432ba5f3a8cb15fa4f42",
       "version_major": 2,
       "version_minor": 0
      },
      "text/plain": [
       "Downloading:   0%|          | 0.00/1.89k [00:00<?, ?B/s]"
      ]
     },
     "metadata": {},
     "output_type": "display_data"
    },
    {
     "data": {
      "application/vnd.jupyter.widget-view+json": {
       "model_id": "61a59cb558ed4eb9bf277b5fced35a89",
       "version_major": 2,
       "version_minor": 0
      },
      "text/plain": [
       "Downloading:   0%|          | 0.00/1.37k [00:00<?, ?B/s]"
      ]
     },
     "metadata": {},
     "output_type": "display_data"
    },
    {
     "data": {
      "application/vnd.jupyter.widget-view+json": {
       "model_id": "143c8f4219b347f38b5d1d03a2088791",
       "version_major": 2,
       "version_minor": 0
      },
      "text/plain": [
       "Downloading:   0%|          | 0.00/792k [00:00<?, ?B/s]"
      ]
     },
     "metadata": {},
     "output_type": "display_data"
    },
    {
     "data": {
      "application/vnd.jupyter.widget-view+json": {
       "model_id": "d828e85fbbbf4e1ca62c14da4f9bb6b7",
       "version_major": 2,
       "version_minor": 0
      },
      "text/plain": [
       "Downloading:   0%|          | 0.00/1.79k [00:00<?, ?B/s]"
      ]
     },
     "metadata": {},
     "output_type": "display_data"
    },
    {
     "data": {
      "application/vnd.jupyter.widget-view+json": {
       "model_id": "132a27577f364da79e8e4ead6101331c",
       "version_major": 2,
       "version_minor": 0
      },
      "text/plain": [
       "Downloading:   0%|          | 0.00/892M [00:00<?, ?B/s]"
      ]
     },
     "metadata": {},
     "output_type": "display_data"
    },
    {
     "data": {
      "application/vnd.jupyter.widget-view+json": {
       "model_id": "bc1bfb72e5f64b32ab5c757804742123",
       "version_major": 2,
       "version_minor": 0
      },
      "text/plain": [
       "Downloading:   0%|          | 0.00/908 [00:00<?, ?B/s]"
      ]
     },
     "metadata": {},
     "output_type": "display_data"
    },
    {
     "data": {
      "application/vnd.jupyter.widget-view+json": {
       "model_id": "71cc0fde860340d394734fb6d75bd967",
       "version_major": 2,
       "version_minor": 0
      },
      "text/plain": [
       "Downloading:   0%|          | 0.00/1.63G [00:00<?, ?B/s]"
      ]
     },
     "metadata": {},
     "output_type": "display_data"
    },
    {
     "data": {
      "application/vnd.jupyter.widget-view+json": {
       "model_id": "c1683d450f654150bfd96dc5339d59b2",
       "version_major": 2,
       "version_minor": 0
      },
      "text/plain": [
       "Downloading:   0%|          | 0.00/26.0 [00:00<?, ?B/s]"
      ]
     },
     "metadata": {},
     "output_type": "display_data"
    },
    {
     "data": {
      "application/vnd.jupyter.widget-view+json": {
       "model_id": "163d35e5f7bd4ec8afae284807bc4352",
       "version_major": 2,
       "version_minor": 0
      },
      "text/plain": [
       "Downloading:   0%|          | 0.00/899k [00:01<?, ?B/s]"
      ]
     },
     "metadata": {},
     "output_type": "display_data"
    },
    {
     "data": {
      "application/vnd.jupyter.widget-view+json": {
       "model_id": "c02d35f8cc284bae8feefd5cdf1092d0",
       "version_major": 2,
       "version_minor": 0
      },
      "text/plain": [
       "Downloading:   0%|          | 0.00/456k [00:00<?, ?B/s]"
      ]
     },
     "metadata": {},
     "output_type": "display_data"
    },
    {
     "data": {
      "application/vnd.jupyter.widget-view+json": {
       "model_id": "516e5ae4a7ae425ca1c7957826b209e4",
       "version_major": 2,
       "version_minor": 0
      },
      "text/plain": [
       "Downloading:   0%|          | 0.00/1.36M [00:00<?, ?B/s]"
      ]
     },
     "metadata": {},
     "output_type": "display_data"
    },
    {
     "data": {
      "application/vnd.jupyter.widget-view+json": {
       "model_id": "20188a86310444658267ecaf3b1162a8",
       "version_major": 2,
       "version_minor": 0
      },
      "text/plain": [
       "Downloading:   0%|          | 0.00/476 [00:00<?, ?B/s]"
      ]
     },
     "metadata": {},
     "output_type": "display_data"
    },
    {
     "data": {
      "application/vnd.jupyter.widget-view+json": {
       "model_id": "009f6814d2364e35afe85bdec7c1eb5f",
       "version_major": 2,
       "version_minor": 0
      },
      "text/plain": [
       "Downloading:   0%|          | 0.00/438M [00:00<?, ?B/s]"
      ]
     },
     "metadata": {},
     "output_type": "display_data"
    },
    {
     "data": {
      "application/vnd.jupyter.widget-view+json": {
       "model_id": "c0ab633e66f24c5489ccfc35298ad1ce",
       "version_major": 2,
       "version_minor": 0
      },
      "text/plain": [
       "Downloading:   0%|          | 0.00/48.0 [00:00<?, ?B/s]"
      ]
     },
     "metadata": {},
     "output_type": "display_data"
    },
    {
     "data": {
      "application/vnd.jupyter.widget-view+json": {
       "model_id": "5fa36a4267c94bf5ace51815f1553b86",
       "version_major": 2,
       "version_minor": 0
      },
      "text/plain": [
       "Downloading:   0%|          | 0.00/232k [00:00<?, ?B/s]"
      ]
     },
     "metadata": {},
     "output_type": "display_data"
    },
    {
     "data": {
      "application/vnd.jupyter.widget-view+json": {
       "model_id": "95a1337393c44c0d85c0e2903bd4885e",
       "version_major": 2,
       "version_minor": 0
      },
      "text/plain": [
       "Downloading:   0%|          | 0.00/112 [00:00<?, ?B/s]"
      ]
     },
     "metadata": {},
     "output_type": "display_data"
    },
    {
     "data": {
      "application/vnd.jupyter.widget-view+json": {
       "model_id": "12b21c3068cb429ab58f6712ae50682d",
       "version_major": 2,
       "version_minor": 0
      },
      "text/plain": [
       "Downloading:   0%|          | 0.00/736 [00:00<?, ?B/s]"
      ]
     },
     "metadata": {},
     "output_type": "display_data"
    },
    {
     "data": {
      "application/vnd.jupyter.widget-view+json": {
       "model_id": "fd4893de47914a95a522ed652eaea3a3",
       "version_major": 2,
       "version_minor": 0
      },
      "text/plain": [
       "Downloading:   0%|          | 0.00/3.72k [00:00<?, ?B/s]"
      ]
     },
     "metadata": {},
     "output_type": "display_data"
    },
    {
     "data": {
      "application/vnd.jupyter.widget-view+json": {
       "model_id": "32a3925e49604f97a4fb958d778eb0e8",
       "version_major": 2,
       "version_minor": 0
      },
      "text/plain": [
       "Downloading:   0%|          | 0.00/686 [00:00<?, ?B/s]"
      ]
     },
     "metadata": {},
     "output_type": "display_data"
    },
    {
     "data": {
      "application/vnd.jupyter.widget-view+json": {
       "model_id": "e68a3437003a4ea0b87dd095a7d8d9c6",
       "version_major": 2,
       "version_minor": 0
      },
      "text/plain": [
       "Downloading:   0%|          | 0.00/122 [00:00<?, ?B/s]"
      ]
     },
     "metadata": {},
     "output_type": "display_data"
    },
    {
     "data": {
      "application/vnd.jupyter.widget-view+json": {
       "model_id": "bfba666fd6184b60808ade8e4e45b2e5",
       "version_major": 2,
       "version_minor": 0
      },
      "text/plain": [
       "Downloading:   0%|          | 0.00/456k [00:00<?, ?B/s]"
      ]
     },
     "metadata": {},
     "output_type": "display_data"
    },
    {
     "data": {
      "application/vnd.jupyter.widget-view+json": {
       "model_id": "b6cfd6a512834ef78e2cee4529a75796",
       "version_major": 2,
       "version_minor": 0
      },
      "text/plain": [
       "Downloading:   0%|          | 0.00/229 [00:00<?, ?B/s]"
      ]
     },
     "metadata": {},
     "output_type": "display_data"
    },
    {
     "data": {
      "application/vnd.jupyter.widget-view+json": {
       "model_id": "0894f8d9423843648032c4e9de6d5726",
       "version_major": 2,
       "version_minor": 0
      },
      "text/plain": [
       "Downloading:   0%|          | 0.00/329M [00:00<?, ?B/s]"
      ]
     },
     "metadata": {},
     "output_type": "display_data"
    },
    {
     "data": {
      "application/vnd.jupyter.widget-view+json": {
       "model_id": "b21f7f7d7013438fbf5252ef85fad8a2",
       "version_major": 2,
       "version_minor": 0
      },
      "text/plain": [
       "Downloading:   0%|          | 0.00/53.0 [00:00<?, ?B/s]"
      ]
     },
     "metadata": {},
     "output_type": "display_data"
    },
    {
     "data": {
      "application/vnd.jupyter.widget-view+json": {
       "model_id": "fd0aafa5efd74196b089dadcc1f0764f",
       "version_major": 2,
       "version_minor": 0
      },
      "text/plain": [
       "Downloading:   0%|          | 0.00/239 [00:00<?, ?B/s]"
      ]
     },
     "metadata": {},
     "output_type": "display_data"
    },
    {
     "data": {
      "application/vnd.jupyter.widget-view+json": {
       "model_id": "94b79313b1db4a918e697a128c6a1ae2",
       "version_major": 2,
       "version_minor": 0
      },
      "text/plain": [
       "Downloading:   0%|          | 0.00/1.36M [00:00<?, ?B/s]"
      ]
     },
     "metadata": {},
     "output_type": "display_data"
    },
    {
     "data": {
      "application/vnd.jupyter.widget-view+json": {
       "model_id": "e48ad56afccc49d2894ee84d1d7ef02d",
       "version_major": 2,
       "version_minor": 0
      },
      "text/plain": [
       "Downloading:   0%|          | 0.00/1.12k [00:00<?, ?B/s]"
      ]
     },
     "metadata": {},
     "output_type": "display_data"
    },
    {
     "data": {
      "application/vnd.jupyter.widget-view+json": {
       "model_id": "88bc17ede6f64a609c5b6b08f77e57f3",
       "version_major": 2,
       "version_minor": 0
      },
      "text/plain": [
       "Downloading:   0%|          | 0.00/798k [00:00<?, ?B/s]"
      ]
     },
     "metadata": {},
     "output_type": "display_data"
    },
    {
     "data": {
      "application/vnd.jupyter.widget-view+json": {
       "model_id": "6f81cf1b9c8c4158aca24c9cbc3694f5",
       "version_major": 2,
       "version_minor": 0
      },
      "text/plain": [
       "Downloading:   0%|          | 0.00/190 [00:00<?, ?B/s]"
      ]
     },
     "metadata": {},
     "output_type": "display_data"
    }
   ],
   "source": [
    "parrot = Parrot(model_tag=\"prithivida/parrot_paraphraser_on_T5\", use_gpu=False)"
   ]
  },
  {
   "cell_type": "markdown",
   "metadata": {},
   "source": [
    "#### Generally, Parrot has 2 functions, namely rephrase and augment:\n",
    "- Rephrasing is changing the order of words in a sentence without adding any words in the sentence\n",
    "- Augmenting is changing the order of words in a sentence by adding or removing words in the sentence"
   ]
  },
  {
   "cell_type": "markdown",
   "metadata": {},
   "source": [
    "## Augment"
   ]
  },
  {
   "cell_type": "code",
   "execution_count": 8,
   "metadata": {},
   "outputs": [],
   "source": [
    "def parap(phrases):\n",
    "    for phrase in phrases:\n",
    "      print(\"-\"*100)\n",
    "      print(\"Input_phrase: \", phrase)\n",
    "      print(\"-\"*100)\n",
    "      para_phrases = parrot.augment(input_phrase=phrase)\n",
    "      for para_phrase in para_phrases:\n",
    "       print(para_phrase)"
   ]
  },
  {
   "cell_type": "code",
   "execution_count": 10,
   "metadata": {},
   "outputs": [],
   "source": [
    "mineral = [\"Quartz, widely distributed mineral of many varieties that consists primarily of silica, or silicon dioxide (SiO2). Minor impurities such as lithium, sodium, potassium, and titanium may be present. \"]"
   ]
  },
  {
   "cell_type": "code",
   "execution_count": 11,
   "metadata": {},
   "outputs": [
    {
     "name": "stdout",
     "output_type": "stream",
     "text": [
      "----------------------------------------------------------------------------------------------------\n",
      "Input_phrase:  Quartz, widely distributed mineral of many varieties that consists primarily of silica, or silicon dioxide (SiO2). Minor impurities such as lithium, sodium, potassium, and titanium may be present. \n",
      "----------------------------------------------------------------------------------------------------\n",
      "('quartz is a widely distributed mineral of many varieties which consists primarily of silica or silicon dioxide sio2 and contains minor impurities such as lithium sodium potassium and titanium', 48)\n"
     ]
    }
   ],
   "source": [
    "parap(mineral)"
   ]
  },
  {
   "cell_type": "code",
   "execution_count": 12,
   "metadata": {},
   "outputs": [
    {
     "name": "stdout",
     "output_type": "stream",
     "text": [
      "----------------------------------------------------------------------------------------------------\n",
      "Input_phrase:  Corundum is an aluminum oxide with a chemical composition of Al2O3 and a hexagonal crystal structure.\n",
      "----------------------------------------------------------------------------------------------------\n",
      "('corundum is an aluminum oxide having a chemical composition of al2o3 and a hexagonal crystal structure', 18)\n",
      "('corundum is an aluminum oxide with a chemical composition of al2o3 and hexagonal crystal structure', 15)\n",
      "('corundum is an aluminum oxide with a chemical composition of al2o3 and a hexagonal crystal structure', 13)\n"
     ]
    }
   ],
   "source": [
    "mineral2 = [\"Corundum is an aluminum oxide with a chemical composition of Al2O3 and a hexagonal crystal structure.\"]\n",
    "parap(mineral2)"
   ]
  },
  {
   "cell_type": "code",
   "execution_count": 15,
   "metadata": {},
   "outputs": [
    {
     "name": "stdout",
     "output_type": "stream",
     "text": [
      "----------------------------------------------------------------------------------------------------\n",
      "Input_phrase:  Olivine is an abundant silicate found in Earth’s mantle, and many meteorites contain this mineral.\n",
      "----------------------------------------------------------------------------------------------------\n",
      "('olivine is an abundant silicate found in the mantle of the earth and many meteorites contain this mineral', 30)\n",
      "('olivine is an abundant silicate found in the mantle of earth and many meteorites contain this mineral', 26)\n",
      "(\"olivine is an abundant silicate found in the earth's mantle and many meteorites contain this mineral\", 18)\n",
      "----------------------------------------------------------------------------------------------------\n",
      "Input_phrase:  Olivine is typically olive green in color, but can also be yellow-green to bright green and brownish-green to brown.\n",
      "----------------------------------------------------------------------------------------------------\n",
      "('olivine is typically olive green in color but can also be yellow green to bright green and brownish green to brown', 15)\n",
      "('olivine is typically olive green in color but can also be yellowgreen to bright green and brownish green to brown', 15)\n",
      "('olivine is typically olive green in color but can also be yellow-green to bright green and brownish green to brown', 14)\n",
      "('olivine is typically olive green in color but can also be yellow-green to bright green and brownish-green to brown', 13)\n"
     ]
    }
   ],
   "source": [
    "mineral3 = [\"Olivine is an abundant silicate found in Earth’s mantle, and many meteorites contain this mineral.\", \"Olivine is typically olive green in color, but can also be yellow-green to bright green and brownish-green to brown.\"]\n",
    "parap(mineral3)"
   ]
  },
  {
   "cell_type": "markdown",
   "metadata": {},
   "source": [
    "Try to create a diverse sentences using *do_diverse*"
   ]
  },
  {
   "cell_type": "code",
   "execution_count": 16,
   "metadata": {},
   "outputs": [],
   "source": [
    "def parap_div(phrases):\n",
    "    for phrase in phrases:\n",
    "      print(\"-\"*100)\n",
    "      print(\"Input_phrase: \", phrase)\n",
    "      print(\"-\"*100)\n",
    "      para_phrases = parrot.augment(input_phrase=phrase, do_diverse=True)\n",
    "      for para_phrase in para_phrases:\n",
    "       print(para_phrase)"
   ]
  },
  {
   "cell_type": "code",
   "execution_count": 18,
   "metadata": {},
   "outputs": [
    {
     "name": "stdout",
     "output_type": "stream",
     "text": [
      "----------------------------------------------------------------------------------------------------\n",
      "Input_phrase:  Olivine is an abundant silicate found in Earth’s mantle, and many meteorites contain this mineral.\n",
      "----------------------------------------------------------------------------------------------------\n",
      "('it is an abundant silicate in the mantle of the earth and many meteorites contain it', 49)\n",
      "('in the mantle of earth olivine is an abundant silicate and many meteorites contain this mineral ', 44)\n",
      "('in the mantle of earth olivine is an abundant silicate and many meteorites contain this mineral', 44)\n",
      "('it is an abundant silicate in the mantle of the earth and many meteorites contain this mineral ', 38)\n",
      "('it is an abundant silicate in the mantle of the earth and many meteorites contain this mineral', 38)\n",
      "('it is an abundant silicate in the mantle of earth and many meteorites contain this mineral', 37)\n",
      "('olivine is an abundant silicate found in the mantle of earth and many meteorites contain this mineral', 26)\n",
      "(\"olivine is an abundant silicate found in earth's mantle and many meteorites contain this mineral\", 14)\n",
      "----------------------------------------------------------------------------------------------------\n",
      "Input_phrase:  Olivine is typically olive green in color, but can also be yellow-green to bright green and brownish-green to brown.\n",
      "----------------------------------------------------------------------------------------------------\n",
      "('olivine is typically olive green in color but can also be yellow-green to bright green and brownish green to brown in colour', 23)\n",
      "('olivine is typically olive green in color but can also be yellow-green to bright green and brownish green to brown in color', 22)\n",
      "('olivine is usually olive green in color but can also be yellow green to bright green and brownish green to brown', 20)\n",
      "('olivine is typically olive green in color but can also be yellow green to bright green and brownish green to brown', 15)\n",
      "('olivine is typically olive green in color but can also be yellowgreen to bright green and brownish green to brown', 15)\n",
      "('olivine is typically olive green in color but can also be yellow-green to bright green and brownish green to brown', 14)\n",
      "('olive olivine is typically olive green in color but can also be yellow green to bright green and brownish green to brown', 13)\n",
      "('olivine is typically olive green in color but can also be yellow-green to bright green and brownish-green to brown', 13)\n"
     ]
    }
   ],
   "source": [
    "parap_div(mineral3)"
   ]
  },
  {
   "cell_type": "markdown",
   "metadata": {},
   "source": [
    "## Rephrase"
   ]
  },
  {
   "cell_type": "code",
   "execution_count": 21,
   "metadata": {},
   "outputs": [],
   "source": [
    "def parap_rephrase(phrases):\n",
    "    for phrase in phrases:\n",
    "      print(\"-\"*100)\n",
    "      print(\"Input_phrase: \", phrase)\n",
    "      print(\"-\"*100)\n",
    "      para_phrases = parrot.rephrase(input_phrase=phrase)\n",
    "      for para_phrase in para_phrases:\n",
    "       print(para_phrase)"
   ]
  },
  {
   "cell_type": "code",
   "execution_count": 22,
   "metadata": {},
   "outputs": [
    {
     "name": "stdout",
     "output_type": "stream",
     "text": [
      "----------------------------------------------------------------------------------------------------\n",
      "Input_phrase:  Olivine is an abundant silicate found in Earth’s mantle, and many meteorites contain this mineral.\n",
      "----------------------------------------------------------------------------------------------------\n",
      "olivine is an abundant silicate found in the mantle of the earth and many meteorites contain this mineral\n",
      "30\n",
      "----------------------------------------------------------------------------------------------------\n",
      "Input_phrase:  Olivine is typically olive green in color, but can also be yellow-green to bright green and brownish-green to brown.\n",
      "----------------------------------------------------------------------------------------------------\n",
      "olivine is typically olive green in color but can also be yellow green to bright green and brownish green to brown\n",
      "15\n"
     ]
    }
   ],
   "source": [
    "parap_rephrase(mineral3)"
   ]
  },
  {
   "cell_type": "code",
   "execution_count": null,
   "metadata": {},
   "outputs": [],
   "source": []
  }
 ],
 "metadata": {
  "kernelspec": {
   "display_name": "Python 3",
   "language": "python",
   "name": "python3"
  },
  "language_info": {
   "codemirror_mode": {
    "name": "ipython",
    "version": 3
   },
   "file_extension": ".py",
   "mimetype": "text/x-python",
   "name": "python",
   "nbconvert_exporter": "python",
   "pygments_lexer": "ipython3",
   "version": "3.7.6"
  }
 },
 "nbformat": 4,
 "nbformat_minor": 4
}
